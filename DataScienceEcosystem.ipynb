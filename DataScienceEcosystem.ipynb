{
 "cells": [
  {
   "cell_type": "markdown",
   "id": "35c95fb0-94ce-45af-b963-0acf36384ded",
   "metadata": {},
   "source": [
    "#Data Science Tools and Ecosystem"
   ]
  },
  {
   "cell_type": "markdown",
   "id": "a65e1118-bc00-46b3-b35a-e004cea96294",
   "metadata": {},
   "source": [
    "##Author\n",
    "Sajad"
   ]
  },
  {
   "cell_type": "markdown",
   "id": "444b9c0c-7bac-4469-a931-7fa3f65c8cb5",
   "metadata": {},
   "source": [
    "In this notebook, Data Science Tools and Ecosystem are summarized."
   ]
  },
  {
   "cell_type": "markdown",
   "id": "cf0f87f3-2717-4f1e-b2b3-b8a2865f96e3",
   "metadata": {},
   "source": [
    "**Objectives:**\n",
    "- List the popular languages Data Scientists are using\n",
    "- Some of the commonly used libraries among Data Scientists\n",
    "- List some of the Data Science tools\n",
    "- Calculate an arithmetic equation and some algebra"
   ]
  },
  {
   "cell_type": "markdown",
   "id": "fe4de87f-f260-4a6a-bd2d-a5902720bc8c",
   "metadata": {},
   "source": [
    "Some of the popular languages that Data Scientists use are:\n",
    "- Python\n",
    "- R\n",
    "- SQL\n",
    "- Julia\n",
    "- Scala"
   ]
  },
  {
   "cell_type": "markdown",
   "id": "362aded0-2855-48a8-8b59-3377752f8923",
   "metadata": {},
   "source": [
    "Some of the commonly used libraries used by Data Scientists include:\n",
    "1. NumPy\n",
    "2. Pandas\n",
    "3. Matplotlib\n",
    "4. Scikit-learn\n",
    "5. TensorFlowf"
   ]
  },
  {
   "cell_type": "markdown",
   "id": "0b25a34b-0dff-4310-84ad-2c9c3dc0af7f",
   "metadata": {},
   "source": [
    "| Data Science Tools |\n",
    "| ------------------ |\n",
    "| Jupyter Notebook |\n",
    "| RStudio |\n",
    "| PyCharm |\n"
   ]
  },
  {
   "cell_type": "markdown",
   "id": "3ce87968-4c03-4a01-9848-ac2a50087f6d",
   "metadata": {},
   "source": [
    "###Below are a few examples of evaluating arithmetic expressions in Python"
   ]
  },
  {
   "cell_type": "code",
   "execution_count": 1,
   "id": "aff836fb-c5c1-4307-846d-f51942d9d4ef",
   "metadata": {},
   "outputs": [
    {
     "data": {
      "text/plain": [
       "17"
      ]
     },
     "execution_count": 1,
     "metadata": {},
     "output_type": "execute_result"
    }
   ],
   "source": [
    "(3*4)+5"
   ]
  },
  {
   "cell_type": "markdown",
   "id": "997eab98-4c42-471d-8ca2-78226c7e38d6",
   "metadata": {},
   "source": [
    "This will convert 200 minutes to hours by diving by 60:"
   ]
  },
  {
   "cell_type": "code",
   "execution_count": 2,
   "id": "16fcc7b2-1a85-43b2-9373-f434c3dd51b3",
   "metadata": {},
   "outputs": [
    {
     "data": {
      "text/plain": [
       "3.3333333333333335"
      ]
     },
     "execution_count": 2,
     "metadata": {},
     "output_type": "execute_result"
    }
   ],
   "source": [
    "200 / 60"
   ]
  },
  {
   "cell_type": "code",
   "execution_count": null,
   "id": "f593bfa8-3b39-41ee-822a-c3d818d70260",
   "metadata": {},
   "outputs": [],
   "source": []
  }
 ],
 "metadata": {
  "kernelspec": {
   "display_name": "Python 3 (ipykernel)",
   "language": "python",
   "name": "python3"
  },
  "language_info": {
   "codemirror_mode": {
    "name": "ipython",
    "version": 3
   },
   "file_extension": ".py",
   "mimetype": "text/x-python",
   "name": "python",
   "nbconvert_exporter": "python",
   "pygments_lexer": "ipython3",
   "version": "3.11.2"
  }
 },
 "nbformat": 4,
 "nbformat_minor": 5
}
